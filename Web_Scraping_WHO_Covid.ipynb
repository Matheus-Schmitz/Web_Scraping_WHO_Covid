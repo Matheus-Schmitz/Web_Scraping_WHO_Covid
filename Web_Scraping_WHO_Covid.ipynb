{
 "cells": [
  {
   "cell_type": "markdown",
   "metadata": {},
   "source": [
    "# Web Scraping Covid Reports from WHO (World Health Organization)"
   ]
  },
  {
   "cell_type": "markdown",
   "metadata": {},
   "source": [
    "<p>Matheus Schmitz</p></p>\n",
    "<p><a href=\"https://www.linkedin.com/in/matheusschmitz/\">LinkedIn</a></p>\n",
    "<p><a href=\"https://matheus-schmitz.github.io/\">Github Portfolio</a></p>"
   ]
  },
  {
   "cell_type": "markdown",
   "metadata": {},
   "source": [
    "## Problem Statement"
   ]
  },
  {
   "cell_type": "markdown",
   "metadata": {},
   "source": [
    "Since January / 2020, WHO (World Health Organization) has been issuing daily newsletters on the contamination and deaths caused by COVID-19. These bulletins are published in reports in pdf format with tables showing the numbers by country and the total by continent.\n",
    "\n",
    "With the data in hand, I will do a quick exploration and build some graphs showing the trend line through polynomial equation.\n",
    "\n",
    "After that, I will use the data to fit a mathematical model of forecasting the contamination curve, working with nonlinear least squares."
   ]
  },
  {
   "cell_type": "markdown",
   "metadata": {},
   "source": [
    "## Data Source"
   ]
  },
  {
   "cell_type": "markdown",
   "metadata": {},
   "source": [
    "The official World Health Organization webpage: https://www.who.int"
   ]
  },
  {
   "cell_type": "markdown",
   "metadata": {},
   "source": [
    "# Packages"
   ]
  },
  {
   "cell_type": "code",
   "execution_count": 97,
   "metadata": {},
   "outputs": [],
   "source": [
    "# Imports\n",
    "import io\n",
    "import bs4\n",
    "import requests\n",
    "import matplotlib\n",
    "import numpy as np\n",
    "import pandas as pd\n",
    "import matplotlib.pyplot as plt\n",
    "from bs4 import BeautifulSoup\n",
    "from datetime import datetime\n",
    "from tqdm import tqdm\n",
    "\n",
    "# Para processar arquivos PDF\n",
    "from PyPDF2 import PdfFileReader\n",
    "\n",
    "# Funções para o modelo matemático\n",
    "import scipy\n",
    "from scipy.optimize import fsolve\n",
    "from scipy.optimize import curve_fit\n",
    "from sklearn.metrics import mean_squared_error"
   ]
  },
  {
   "cell_type": "markdown",
   "metadata": {},
   "source": [
    "## Web Scraping"
   ]
  },
  {
   "cell_type": "code",
   "execution_count": 4,
   "metadata": {},
   "outputs": [],
   "source": [
    "# Base URL\n",
    "base_url = 'https://www.who.int'\n",
    "\n",
    "# URL containing COVID-19 data\n",
    "url = 'https://www.who.int/emergencies/diseases/novel-coronavirus-2019/situation-reports/'"
   ]
  },
  {
   "cell_type": "code",
   "execution_count": 6,
   "metadata": {},
   "outputs": [],
   "source": [
    "# Get the data from the URL\n",
    "response = requests.get(url)\n",
    "\n",
    "# Then parse the data with BeautifulSoup\n",
    "soup = BeautifulSoup(response.content, 'lxml')"
   ]
  },
  {
   "cell_type": "code",
   "execution_count": 51,
   "metadata": {},
   "outputs": [
    {
     "name": "stdout",
     "output_type": "stream",
     "text": [
      "Found 208 situation-repots.\n"
     ]
    }
   ],
   "source": [
    "# List to store links to the \"situation-reports\"\n",
    "links_list = []\n",
    "\n",
    "# Loop through the page elements to fing the \"a\" tags, which indicate URLs\n",
    "for element in soup.find_all('a', href=True):\n",
    "    # Seaching for urls directing to \"situation-reports\"\n",
    "    if 'situation-reports' in str(element):\n",
    "        links_list.append(str(element))\n",
    "\n",
    "print(f'Found {len(links_list)} situation-repots.')"
   ]
  },
  {
   "cell_type": "code",
   "execution_count": 52,
   "metadata": {},
   "outputs": [
    {
     "data": {
      "text/plain": [
       "['<a href=\"/docs/default-source/coronaviruse/situation-reports/20200815-covid-19-sitrep-208.pdf?sfvrsn=9dc4e959_2\" target=\"_blank\"></a>',\n",
       " '<a href=\"/docs/default-source/coronaviruse/situation-reports/20200816-covid-19-sitrep-209.pdf?sfvrsn=5dde1ca2_2\" target=\"_blank\"><strong>Situation report - 209</strong></a>',\n",
       " '<a href=\"/docs/default-source/coronaviruse/situation-reports/20200815-covid-19-sitrep-208.pdf?sfvrsn=9dc4e959_2\" target=\"_blank\"><strong>Situation report - 208</strong></a>']"
      ]
     },
     "execution_count": 52,
     "metadata": {},
     "output_type": "execute_result"
    }
   ],
   "source": [
    "# View some of the results\n",
    "links_list[:3]"
   ]
  },
  {
   "cell_type": "code",
   "execution_count": 166,
   "metadata": {},
   "outputs": [],
   "source": [
    "# Set to store the URLs of the PDF files (using set to avoid duplicates)\n",
    "pdf_urls = list()\n",
    "\n",
    "# Variable to store the number of the last report read\n",
    "# (Some reports are published twice and we don't want to read them duplicate)\n",
    "last_report = None\n",
    "\n",
    "# Loop through each of the urls extracted and obtain the URL to the PDF\n",
    "# Start from the oldest report ([::-1])\n",
    "for url in links_list[::-1]:\n",
    "    \n",
    "    # Replace the html link tag\n",
    "    x = url.replace('<a href=\"', '')\n",
    "    \n",
    "    # Find the question mark to use an index of the last character of the PDF URL\n",
    "    index = x.find('?')\n",
    "    \n",
    "    # Extract the PDF URL\n",
    "    extraction = x[0:index]\n",
    "    \n",
    "    # Then add the PDF URL path to the pdf_urls list\n",
    "    pdf_urls.append(base_url + extraction)"
   ]
  },
  {
   "cell_type": "code",
   "execution_count": 169,
   "metadata": {},
   "outputs": [
    {
     "name": "stdout",
     "output_type": "stream",
     "text": [
      "Removed 2 duplicates\n"
     ]
    },
    {
     "data": {
      "text/plain": [
       "['https://www.who.int/docs/default-source/coronaviruse/situation-reports/20200814-covid-19-sitrep-207.pdf',\n",
       " 'https://www.who.int/docs/default-source/coronaviruse/situation-reports/20200815-covid-19-sitrep-208.pdf',\n",
       " 'https://www.who.int/docs/default-source/coronaviruse/situation-reports/20200816-covid-19-sitrep-209.pdf']"
      ]
     },
     "execution_count": 169,
     "metadata": {},
     "output_type": "execute_result"
    }
   ],
   "source": [
    "# Remove duplicates\n",
    "pdf_urls = list(dict.fromkeys(pdf_urls))\n",
    "print(f'Removed {len(links_list) - len(pdf_urls)} duplicates')\n",
    "\n",
    "# View some of the results\n",
    "pdf_urls[-3:]"
   ]
  },
  {
   "cell_type": "markdown",
   "metadata": {},
   "source": [
    "> Great! Now let me first extract the data from one of the files to make sure everything works fine, and then I can go through all files."
   ]
  },
  {
   "cell_type": "code",
   "execution_count": 170,
   "metadata": {},
   "outputs": [
    {
     "data": {
      "text/plain": [
       "<Response [200]>"
      ]
     },
     "execution_count": 170,
     "metadata": {},
     "output_type": "execute_result"
    }
   ],
   "source": [
    "# Get a sample file\n",
    "sample = pdf_urls[10]\n",
    "\n",
    "# Request the file to the HTML page\n",
    "request = requests.get(sample)\n",
    "\n",
    "# Response code [200] means it worked!\n",
    "request"
   ]
  },
  {
   "cell_type": "code",
   "execution_count": 171,
   "metadata": {},
   "outputs": [
    {
     "data": {
      "text/plain": [
       "PyPDF2.pdf.PdfFileReader"
      ]
     },
     "execution_count": 171,
     "metadata": {},
     "output_type": "execute_result"
    }
   ],
   "source": [
    "# Save the file to a format which can be read\n",
    "file = io.BytesIO(request.content)\n",
    "\n",
    "# And then use a PDF reader to read the file\n",
    "file_pdf = PdfFileReader(file)\n",
    "type(file_pdf)"
   ]
  },
  {
   "cell_type": "code",
   "execution_count": 284,
   "metadata": {},
   "outputs": [],
   "source": [
    "# Extract the text in the PDF and split the lines\n",
    "content = file_pdf.getPage(4).extractText().split('\\n')"
   ]
  },
  {
   "cell_type": "code",
   "execution_count": 285,
   "metadata": {},
   "outputs": [],
   "source": [
    "# Check if we can get data by country\n",
    "try:\n",
    "    print(content.index('South Africa'))\n",
    "except:\n",
    "    pass"
   ]
  },
  {
   "cell_type": "markdown",
   "metadata": {},
   "source": [
    "> Great, country indexing works! Let's now iterate through all PDFs and get the data."
   ]
  },
  {
   "cell_type": "code",
   "execution_count": 175,
   "metadata": {},
   "outputs": [],
   "source": [
    "# Lists to store the findings\n",
    "total_confirmed = []\n",
    "total_confirmed_new = []\n",
    "total_deceased = []\n",
    "total_deceased_new = []"
   ]
  },
  {
   "cell_type": "code",
   "execution_count": 186,
   "metadata": {},
   "outputs": [
    {
     "name": "stderr",
     "output_type": "stream",
     "text": [
      "100%|████████████████████████████████████████| 206/206 [06:57<00:00,  2.03s/it]"
     ]
    },
    {
     "name": "stdout",
     "output_type": "stream",
     "text": [
      "Wall time: 6min 57s\n"
     ]
    },
    {
     "name": "stderr",
     "output_type": "stream",
     "text": [
      "\n"
     ]
    }
   ],
   "source": [
    "%%time\n",
    "\n",
    "country = 'South Korea'\n",
    "\n",
    "# Loop through the PDFs\n",
    "for pdfurl in tqdm(pdf_urls):\n",
    "    \n",
    "    # Get the file\n",
    "    request = requests.get(pdfurl)\n",
    "    \n",
    "    # Save the file to a format which can be read\n",
    "    file = io.BytesIO(request.content)\n",
    "\n",
    "    # And then use a PDF reader to read the file\n",
    "    file_pdf = PdfFileReader(file)\n",
    "    \n",
    "    # Loop through the pages in the pdf\n",
    "    for page in range(file_pdf.getNumPages()):\n",
    "        try:\n",
    "            \n",
    "            # Extract the text\n",
    "            content = file_pdf.getPage(page).extractText().split('\\n')\n",
    "            \n",
    "            # Find country index\n",
    "            country_index = (content.index(country))\n",
    "            \n",
    "            # Store the result in the lists\n",
    "            total_confirmed.append(content[country_index + 2])\n",
    "            total_confirmed_new.append(content[country_index + 4])\n",
    "            total_deceased.append(content[country_index + 6])\n",
    "            total_deceased_new.append(content[country_index + 8])\n",
    "        \n",
    "        except:\n",
    "            pass"
   ]
  },
  {
   "cell_type": "code",
   "execution_count": 224,
   "metadata": {},
   "outputs": [
    {
     "name": "stdout",
     "output_type": "stream",
     "text": [
      "df_covid.shape: (160, 4)\n"
     ]
    }
   ],
   "source": [
    "# Create a dataframe from the lists\n",
    "df_covid = pd.DataFrame(data = [total_confirmed,\n",
    "                                total_confirmed_new,\n",
    "                                total_deceased,\n",
    "                                total_deceased_new]).transpose()\n",
    "df_covid.columns = ['total_confirmed', 'total_confirmed_new', 'total_deceased', 'total_deceased_new']\n",
    "print(f'df_covid.shape: {df_covid.shape}')"
   ]
  },
  {
   "cell_type": "code",
   "execution_count": 225,
   "metadata": {},
   "outputs": [
    {
     "data": {
      "text/html": [
       "<div>\n",
       "<style scoped>\n",
       "    .dataframe tbody tr th:only-of-type {\n",
       "        vertical-align: middle;\n",
       "    }\n",
       "\n",
       "    .dataframe tbody tr th {\n",
       "        vertical-align: top;\n",
       "    }\n",
       "\n",
       "    .dataframe thead th {\n",
       "        text-align: right;\n",
       "    }\n",
       "</style>\n",
       "<table border=\"1\" class=\"dataframe\">\n",
       "  <thead>\n",
       "    <tr style=\"text-align: right;\">\n",
       "      <th></th>\n",
       "      <th>total_confirmed</th>\n",
       "      <th>total_confirmed_new</th>\n",
       "      <th>total_deceased</th>\n",
       "      <th>total_deceased_new</th>\n",
       "    </tr>\n",
       "  </thead>\n",
       "  <tbody>\n",
       "    <tr>\n",
       "      <th>0</th>\n",
       "      <td>2</td>\n",
       "      <td>2</td>\n",
       "      <td>0</td>\n",
       "      <td>0</td>\n",
       "    </tr>\n",
       "    <tr>\n",
       "      <th>1</th>\n",
       "      <td>2</td>\n",
       "      <td>0</td>\n",
       "      <td>0</td>\n",
       "      <td>0</td>\n",
       "    </tr>\n",
       "    <tr>\n",
       "      <th>2</th>\n",
       "      <td>7</td>\n",
       "      <td>5</td>\n",
       "      <td>0</td>\n",
       "      <td>0</td>\n",
       "    </tr>\n",
       "    <tr>\n",
       "      <th>3</th>\n",
       "      <td>9</td>\n",
       "      <td>0</td>\n",
       "      <td>0</td>\n",
       "      <td>0</td>\n",
       "    </tr>\n",
       "    <tr>\n",
       "      <th>4</th>\n",
       "      <td>13</td>\n",
       "      <td>4</td>\n",
       "      <td>0</td>\n",
       "      <td>0</td>\n",
       "    </tr>\n",
       "  </tbody>\n",
       "</table>\n",
       "</div>"
      ],
      "text/plain": [
       "  total_confirmed total_confirmed_new total_deceased total_deceased_new\n",
       "0               2                   2              0                  0\n",
       "1               2                   0              0                  0\n",
       "2               7                   5              0                  0\n",
       "3               9                   0              0                  0\n",
       "4              13                   4              0                  0"
      ]
     },
     "execution_count": 225,
     "metadata": {},
     "output_type": "execute_result"
    }
   ],
   "source": [
    "# Visualize\n",
    "df_covid.head()"
   ]
  },
  {
   "cell_type": "code",
   "execution_count": 226,
   "metadata": {},
   "outputs": [
    {
     "data": {
      "text/html": [
       "<div>\n",
       "<style scoped>\n",
       "    .dataframe tbody tr th:only-of-type {\n",
       "        vertical-align: middle;\n",
       "    }\n",
       "\n",
       "    .dataframe tbody tr th {\n",
       "        vertical-align: top;\n",
       "    }\n",
       "\n",
       "    .dataframe thead th {\n",
       "        text-align: right;\n",
       "    }\n",
       "</style>\n",
       "<table border=\"1\" class=\"dataframe\">\n",
       "  <thead>\n",
       "    <tr style=\"text-align: right;\">\n",
       "      <th></th>\n",
       "      <th>total_confirmed</th>\n",
       "      <th>total_confirmed_new</th>\n",
       "      <th>total_deceased</th>\n",
       "      <th>total_deceased_new</th>\n",
       "    </tr>\n",
       "  </thead>\n",
       "  <tbody>\n",
       "    <tr>\n",
       "      <th>155</th>\n",
       "      <td></td>\n",
       "      <td></td>\n",
       "      <td>157</td>\n",
       "      <td></td>\n",
       "    </tr>\n",
       "    <tr>\n",
       "      <th>156</th>\n",
       "      <td></td>\n",
       "      <td></td>\n",
       "      <td>120</td>\n",
       "      <td></td>\n",
       "    </tr>\n",
       "    <tr>\n",
       "      <th>157</th>\n",
       "      <td></td>\n",
       "      <td></td>\n",
       "      <td>278</td>\n",
       "      <td></td>\n",
       "    </tr>\n",
       "    <tr>\n",
       "      <th>158</th>\n",
       "      <td></td>\n",
       "      <td></td>\n",
       "      <td>325</td>\n",
       "      <td></td>\n",
       "    </tr>\n",
       "    <tr>\n",
       "      <th>159</th>\n",
       "      <td>53</td>\n",
       "      <td>981</td>\n",
       "      <td>198</td>\n",
       "      <td>1</td>\n",
       "    </tr>\n",
       "  </tbody>\n",
       "</table>\n",
       "</div>"
      ],
      "text/plain": [
       "    total_confirmed total_confirmed_new total_deceased total_deceased_new\n",
       "155                                                157                   \n",
       "156                                                120                   \n",
       "157                                                278                   \n",
       "158                                                325                   \n",
       "159              53                 981            198                  1"
      ]
     },
     "execution_count": 226,
     "metadata": {},
     "output_type": "execute_result"
    }
   ],
   "source": [
    "# Visualize\n",
    "df_covid.tail()"
   ]
  },
  {
   "cell_type": "code",
   "execution_count": 227,
   "metadata": {},
   "outputs": [],
   "source": [
    "# Seems like the last row has only partial data... remove it\n",
    "df_covid.drop(df_covid.tail(1).index, inplace=True)"
   ]
  },
  {
   "cell_type": "markdown",
   "metadata": {},
   "source": [
    "> Unfortunately seems like not all days have all data points."
   ]
  },
  {
   "cell_type": "markdown",
   "metadata": {},
   "source": [
    "## Exploratory Analysis"
   ]
  },
  {
   "cell_type": "markdown",
   "metadata": {},
   "source": [
    "> First some data cleaning is in order."
   ]
  },
  {
   "cell_type": "code",
   "execution_count": 230,
   "metadata": {},
   "outputs": [
    {
     "name": "stdout",
     "output_type": "stream",
     "text": [
      "df_plot.shape: (89, 4)\n"
     ]
    },
    {
     "data": {
      "text/html": [
       "<div>\n",
       "<style scoped>\n",
       "    .dataframe tbody tr th:only-of-type {\n",
       "        vertical-align: middle;\n",
       "    }\n",
       "\n",
       "    .dataframe tbody tr th {\n",
       "        vertical-align: top;\n",
       "    }\n",
       "\n",
       "    .dataframe thead th {\n",
       "        text-align: right;\n",
       "    }\n",
       "</style>\n",
       "<table border=\"1\" class=\"dataframe\">\n",
       "  <thead>\n",
       "    <tr style=\"text-align: right;\">\n",
       "      <th></th>\n",
       "      <th>total_confirmed</th>\n",
       "      <th>total_confirmed_new</th>\n",
       "      <th>total_deceased</th>\n",
       "      <th>total_deceased_new</th>\n",
       "    </tr>\n",
       "  </thead>\n",
       "  <tbody>\n",
       "    <tr>\n",
       "      <th>97</th>\n",
       "      <td>34885</td>\n",
       "      <td>392</td>\n",
       "      <td>1485</td>\n",
       "      <td>6</td>\n",
       "    </tr>\n",
       "    <tr>\n",
       "      <th>102</th>\n",
       "      <td>36463</td>\n",
       "      <td>283</td>\n",
       "      <td>1512</td>\n",
       "      <td>7</td>\n",
       "    </tr>\n",
       "    <tr>\n",
       "      <th>107</th>\n",
       "      <td>38464</td>\n",
       "      <td>375</td>\n",
       "      <td>1527</td>\n",
       "      <td>3</td>\n",
       "    </tr>\n",
       "    <tr>\n",
       "      <th>110</th>\n",
       "      <td>39392</td>\n",
       "      <td>259</td>\n",
       "      <td>1534</td>\n",
       "      <td>4</td>\n",
       "    </tr>\n",
       "    <tr>\n",
       "      <th>121</th>\n",
       "      <td>43569</td>\n",
       "      <td>413</td>\n",
       "      <td>1</td>\n",
       "      <td>605</td>\n",
       "    </tr>\n",
       "    <tr>\n",
       "      <th>123</th>\n",
       "      <td>44</td>\n",
       "      <td>129</td>\n",
       "      <td>232</td>\n",
       "      <td>1</td>\n",
       "    </tr>\n",
       "    <tr>\n",
       "      <th>132</th>\n",
       "      <td>47426</td>\n",
       "      <td>375</td>\n",
       "      <td>1676</td>\n",
       "      <td>8</td>\n",
       "    </tr>\n",
       "    <tr>\n",
       "      <th>136</th>\n",
       "      <td>48636</td>\n",
       "      <td>246</td>\n",
       "      <td>1689</td>\n",
       "      <td>5</td>\n",
       "    </tr>\n",
       "    <tr>\n",
       "      <th>140</th>\n",
       "      <td>49692</td>\n",
       "      <td>313</td>\n",
       "      <td>1712</td>\n",
       "      <td>7</td>\n",
       "    </tr>\n",
       "    <tr>\n",
       "      <th>154</th>\n",
       "      <td>52668</td>\n",
       "      <td>131</td>\n",
       "      <td>1756</td>\n",
       "      <td>6</td>\n",
       "    </tr>\n",
       "  </tbody>\n",
       "</table>\n",
       "</div>"
      ],
      "text/plain": [
       "     total_confirmed  total_confirmed_new  total_deceased  total_deceased_new\n",
       "97             34885                  392            1485                   6\n",
       "102            36463                  283            1512                   7\n",
       "107            38464                  375            1527                   3\n",
       "110            39392                  259            1534                   4\n",
       "121            43569                  413               1                 605\n",
       "123               44                  129             232                   1\n",
       "132            47426                  375            1676                   8\n",
       "136            48636                  246            1689                   5\n",
       "140            49692                  313            1712                   7\n",
       "154            52668                  131            1756                   6"
      ]
     },
     "execution_count": 230,
     "metadata": {},
     "output_type": "execute_result"
    }
   ],
   "source": [
    "# Swap spaces for zeros\n",
    "df_plot = df_covid.replace(' ', np.NaN)\n",
    "df_plot = df_plot.dropna()\n",
    "df_plot['total_confirmed'] = df_plot['total_confirmed'].str.replace(' ', '')\n",
    "df_plot['total_confirmed_new'] = df_plot['total_confirmed_new'].str.replace(' ', '')\n",
    "df_plot['total_deceased'] = df_plot['total_deceased'].str.replace(' ', '')\n",
    "df_plot['total_deceased_new'] = df_plot['total_deceased_new'].str.replace(' ', '')\n",
    "\n",
    "# convert data to int type\n",
    "df_plot = df_plot.astype(int)\n",
    "print(f'df_plot.shape: {df_plot.shape}')\n",
    "df_plot.tail(10)"
   ]
  },
  {
   "cell_type": "markdown",
   "metadata": {},
   "source": [
    "> Creating some plots and adding a trend line using np.polyfit() and np.poly1d() for polinomial.fitting."
   ]
  },
  {
   "cell_type": "code",
   "execution_count": 233,
   "metadata": {},
   "outputs": [
    {
     "data": {
      "image/png": "[encoded data removed]",
      "text/plain": [
       "<Figure size 1080x540 with 1 Axes>"
      ]
     },
     "metadata": {
      "needs_background": "light"
     },
     "output_type": "display_data"
    }
   ],
   "source": [
    "# Plot 1\n",
    "fix, ax = plt.subplots(figsize=(16,9)))\n",
    "\n",
    "# Plot data\n",
    "x = df_plot.index\n",
    "y = df_plot['total_confirmed']\n",
    "plt.scatter(x, y, color='goldenrod')\n",
    "\n",
    "# Trendline with np.polyfit\n",
    "z = np.polyfit(x, y, 1)\n",
    "p = np.poly1d(z)\n",
    "plt.plot(x, p(x), \"r--\", color='darkblue')\n",
    "\n",
    "# Title and labels\n",
    "plt.title(f'Confirmed Covid-19 Cases in {country}')\n",
    "plt.xlabel('Days Since First Confirmed Case')\n",
    "plt.ylabel('Total Number of Cases')\n",
    "plt.show()"
   ]
  },
  {
   "cell_type": "code",
   "execution_count": 246,
   "metadata": {},
   "outputs": [
    {
     "data": {
      "image/png": "[encoded data removed]",
      "text/plain": [
       "<Figure size 1152x648 with 1 Axes>"
      ]
     },
     "metadata": {
      "needs_background": "light"
     },
     "output_type": "display_data"
    }
   ],
   "source": [
    "# Plot 2\n",
    "fix, ax = plt.subplots(figsize=(16,9))\n",
    "\n",
    "# Plot data\n",
    "x = df_plot.index\n",
    "y = df_plot['total_deceased']\n",
    "plt.scatter(x, y, color='goldenrod')\n",
    "\n",
    "# Trendline with np.polyfit\n",
    "z = np.polyfit(x, y, 1)\n",
    "p = np.poly1d(z)\n",
    "plt.plot(x, p(x), \"r--\", color='darkblue')\n",
    "\n",
    "# Title and labels\n",
    "plt.title(f'Deaths from Covid-19 in {country}')\n",
    "plt.xlabel('Days Since First Confirmed Case')\n",
    "plt.ylabel('Total Number of Deaths')\n",
    "plt.show()"
   ]
  },
  {
   "cell_type": "markdown",
   "metadata": {},
   "source": [
    "## Predictive Modeling"
   ]
  },
  {
   "cell_type": "markdown",
   "metadata": {},
   "source": [
    "> Using a logistic model to build a growth curve, then a mathematical model to predict the curve."
   ]
  },
  {
   "cell_type": "code",
   "execution_count": 273,
   "metadata": {},
   "outputs": [],
   "source": [
    "# Creating a logistic model\n",
    "# x = inputs\n",
    "# a = growth rate\n",
    "# b = peak of x\n",
    "# L = max y value\n",
    "def logistic_model(x, a, b, L):\n",
    "    return L / (1 + np.exp(-(x - b) / a))"
   ]
  },
  {
   "cell_type": "code",
   "execution_count": 274,
   "metadata": {},
   "outputs": [],
   "source": [
    "x = df_plot.index\n",
    "y = df_plot['total_confirmed']"
   ]
  },
  {
   "cell_type": "code",
   "execution_count": 275,
   "metadata": {},
   "outputs": [],
   "source": [
    "# Fit the logistic model curve\n",
    "# https://docs.scipy.org/doc/scipy/reference/generated/scipy.optimize.curve_fit.html\n",
    "covid_model = curve_fit(logistic_model, x, y, p0 = [2, 100, 20000])"
   ]
  },
  {
   "cell_type": "code",
   "execution_count": 276,
   "metadata": {},
   "outputs": [],
   "source": [
    "# Extract from the model the values of interest\n",
    "growth_rate, peak_x, max_y = covid_model[0]"
   ]
  },
  {
   "cell_type": "code",
   "execution_count": 277,
   "metadata": {},
   "outputs": [],
   "source": [
    "# Calculate the errors\n",
    "growth_rate_error, peak_x_error, max_y_error = [np.sqrt(covid_model[1][i][i]) for i in [0, 1, 2]]"
   ]
  },
  {
   "cell_type": "code",
   "execution_count": 278,
   "metadata": {},
   "outputs": [],
   "source": [
    "# Now solve the non-linear equation with fsolve()\n",
    "# https://docs.scipy.org/doc/scipy/reference/generated/scipy.optimize.fsolve.html\n",
    "result = int(fsolve(lambda x: logistic_model(x, growth_rate, peak_x, max_y) - max_y * 0.9999, peak_x))"
   ]
  },
  {
   "cell_type": "code",
   "execution_count": 279,
   "metadata": {},
   "outputs": [],
   "source": [
    "# x range\n",
    "x_range = list(range(min(x), result))"
   ]
  },
  {
   "cell_type": "code",
   "execution_count": 280,
   "metadata": {},
   "outputs": [
    {
     "data": {
      "image/png": "[encoded data removed]",
      "text/plain": [
       "<Figure size 1152x648 with 1 Axes>"
      ]
     },
     "metadata": {
      "needs_background": "light"
     },
     "output_type": "display_data"
    }
   ],
   "source": [
    "# Plot predictions\n",
    "fix, ax = plt.subplots(figsize=(16,9))\n",
    "\n",
    "# Plot data\n",
    "plt.plot(x_range, [logistic_model(i, growth_rate, peak_x, max_y) for i in x_range], color = 'green')\n",
    "plt.scatter(x, y, color = 'red')\n",
    "\n",
    "# Title and labels\n",
    "plt.title(f'Confirmed Covid-19 Cases in {country}')\n",
    "plt.xlabel('Days Since First Confirmed Case')\n",
    "plt.ylabel('Total Number of Cases')\n",
    "plt.legend(['Predicted', 'Actual'])\n",
    "plt.show()"
   ]
  },
  {
   "cell_type": "markdown",
   "metadata": {},
   "source": [
    "> Seems like modeling the covid pandemic with a logistic regression did a semi-good job at best..."
   ]
  },
  {
   "cell_type": "markdown",
   "metadata": {},
   "source": [
    "<p><h1 id=\"End\">End<a class=\"anchor-link\" href=\"#End\">&#182;</a></h1>\n",
    "<p>Matheus Schmitz</p></p>\n",
    "<p><a href=\"https://www.linkedin.com/in/matheusschmitz/\">LinkedIn</a></p>\n",
    "<p><a href=\"https://matheus-schmitz.github.io/\">Github Portfolio</a></p>"
   ]
  }
 ],
 "metadata": {
  "kernelspec": {
   "display_name": "Python 3",
   "language": "python",
   "name": "python3"
  },
  "language_info": {
   "codemirror_mode": {
    "name": "ipython",
    "version": 3
   },
   "file_extension": ".py",
   "mimetype": "text/x-python",
   "name": "python",
   "nbconvert_exporter": "python",
   "pygments_lexer": "ipython3",
   "version": "3.7.7"
  }
 },
 "nbformat": 4,
 "nbformat_minor": 4
}
